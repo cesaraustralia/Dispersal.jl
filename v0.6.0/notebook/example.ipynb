{
  "cells": [
    {
      "cell_type": "markdown",
      "source": [
        "# Dispersal simulations\n\nIn this example we will run a simulation of the spread of an invasive insect \naccross Australia, after an incursion in Brisbane.\n\n## Setup\n\nFirst, load the required packages. Dates is a core julia package that give us \ndate/time handling, GeoData and RasterDataSources simplify the loading of geospatial\nraster files. It requires also loading NCDatasets.jl and ArchGDAL.jl to load\nNetCDF and GeoTiff files, respectively."
      ],
      "metadata": {}
    },
    {
      "outputs": [],
      "cell_type": "code",
      "source": [
        "using DynamicGrids\nusing GeoData, NCDatasets, ArchGDAL, RasterDataSources\nusing Dispersal, Dates, Plots, GrowthMaps, Unitful, Statistics\nusing Unitful: °C, K, cal, mol, mm\nbasedir = realpath(joinpath(dirname(Base.pathof(Dispersal)), \"../docs\"))"
      ],
      "metadata": {},
      "execution_count": null
    },
    {
      "cell_type": "markdown",
      "source": [
        "### Define simulation extent in space and time:\n\nWe use `DateTime` of for the time dimension:"
      ],
      "metadata": {}
    },
    {
      "outputs": [],
      "cell_type": "code",
      "source": [
        "timestep = Month(1);\ntspan = DateTime(2022, 1):timestep:DateTime(2030, 12)\naust = Lon(Between(113, 154)),\n       Lat(Between(-45, -10));"
      ],
      "metadata": {},
      "execution_count": null
    },
    {
      "cell_type": "markdown",
      "source": [
        "---\n\n### Define a `RuleSet`: climate driven population growth\n\nThis will involve combining multiple dispersal components into a single\n`RuleSet` object: population growth, local dispersal, Allee effects, and human\ndispersal.\n\n### Local dispersal"
      ],
      "metadata": {}
    },
    {
      "outputs": [],
      "cell_type": "code",
      "source": [
        "localdisp = InwardsDispersal(;\n    radius=1,\n    formulation=ExponentialKernel(; λ = 0.0125),\n    distancemethod=AreaToArea(30),\n)"
      ],
      "metadata": {},
      "execution_count": null
    },
    {
      "cell_type": "markdown",
      "source": [
        "### Allee effects"
      ],
      "metadata": {}
    },
    {
      "outputs": [],
      "cell_type": "code",
      "source": [
        "allee = AlleeExtinction(; minfounders=10.0);"
      ],
      "metadata": {},
      "execution_count": null
    },
    {
      "cell_type": "markdown",
      "source": [
        "### Human dispersal\n\nThe human dispersal component is generated from an array or population data.\nFirst we'll open an input tiff, and move it to a memory backed `GeoArray`."
      ],
      "metadata": {}
    },
    {
      "outputs": [],
      "cell_type": "code",
      "source": [
        "humanpop_url = \"https://github.com/cesaraustralia/DSuzukiiInvasionPaper/blob/master/data/population_density.tif?raw=true\"\nhumanpop_filename = \"population_density.tif\"\nhumanpop_filepath = joinpath(basedir, humanpop_filename)\nisfile(humanpop_filepath) || download(humanpop_url, humanpop_filepath);"
      ],
      "metadata": {},
      "execution_count": null
    },
    {
      "cell_type": "markdown",
      "source": [
        "Again select the Australian bounds. This time we also select the first Band.\nTiff data always has bands, even when there is only one:"
      ],
      "metadata": {}
    },
    {
      "outputs": [],
      "cell_type": "code",
      "source": [
        "humanpop = GDALarray(humanpop_filepath; mappedcrs=EPSG(4326))[Band(1), aust...] |>\n    A -> replace_missing(A, missing) |>\n    A -> permutedims(A, (Lat, Lon)) |> \n    A -> reorder(A, Lat=ReverseArray, Lon=ForwardArray)\nplot(humanpop)\nsavefig(joinpath(basedir, \"build/assets/humanpop.png\"));"
      ],
      "metadata": {},
      "execution_count": null
    },
    {
      "cell_type": "markdown",
      "source": [
        "![popgrowth](assets/humanpop.png)"
      ],
      "metadata": {}
    },
    {
      "outputs": [],
      "cell_type": "code",
      "source": [
        "humandisp = HumanDispersal(\n    human_pop=parent(humanpop),\n    human_exponent=2.0,\n    dist_exponent=2.0,\n    dispersalperpop=1e-9,\n    max_dispersers=500.0,\n    nshortlisted=50,\n    scale=8,\n);"
      ],
      "metadata": {},
      "execution_count": null
    },
    {
      "cell_type": "markdown",
      "source": [
        "To obtain spatially and temporally heterogeneous growth rates for our growth model,\nwe simplify the [examples tutorial](https://rafaqz.github.io/GrowthRates.jl/dev/example/index.html) \nover at [GrowthRates.jl](https://github.com/rafaqz/GrowthRates.jl)."
      ],
      "metadata": {}
    },
    {
      "outputs": [],
      "cell_type": "code",
      "source": [
        "# Generate a growth response curve\np = 3.626804f-01\nΔH_A = 3.586625f4cal/mol\nΔH_H = 1.431237f5cal/mol\nThalf_H = 2.988454f2K\nΔH_L = -1.108988f5cal/mol\nThalf_L = 2.459949f2K\nT_ref = K(25.0f0°C)\ngrowthresponse = Layer(:tavg, °C,\n    SchoolfieldIntrinsicGrowth(p, ΔH_A, ΔH_L, Thalf_L, ΔH_H, Thalf_H, T_ref)\n)\n# Add some lower and upper temperature bounds that cause mortality\ncoldthresh = -10.0f0°C |> K\ncoldmort = -log(1.23f0)K^-1\nheatthresh = 30.0f0°C |> K\nheatmort = -log(1.15f0)K^-1\ncoldstress = Layer(:tavg, °C, LowerStress(coldthresh, coldmort))\nheatstress = Layer(:tavg, °C, UpperStress(heatthresh, heatmort))\n# Set a stressor based on precipitation - there are better data to use\n# for this, but this is easy to download for the example\nwetthresh = 40mm\nwetmort = -0.01f0mm^-1\nwetstress = Layer(:prec, mm, LowerStress(wetthresh, wetmort))\n# Define the whole model\nmodel = growthresponse, coldstress, heatstress, wetstress\n\n# Download some climate data, and reseample to match the population data\nser = map(series(WorldClim{Climate}, (:tavg, :prec); month=1:12)) do stack\n    map(A -> resample(A, humanpop), stack)\nend;\ngrowthrates = mapgrowth(model; series=ser, tspan=1:12)"
      ],
      "metadata": {},
      "execution_count": null
    },
    {
      "cell_type": "markdown",
      "source": [
        "Plot the growth layer:"
      ],
      "metadata": {}
    },
    {
      "outputs": [],
      "cell_type": "code",
      "source": [
        "mode_ = Projected(; crs=crs(growthrates), mappedcrs=EPSG(4326))\ngrowthrates = set(growthrates[Band(1)], Lat=mode_, Lon=mode_) |>\n    A -> set(A, Ti(DateTime(2017, 1):Month(1):DateTime(2017, 12))) |>\n    A -> permutedims(A, (Lat, Lon, Ti)) |>\n    A -> reorder(A, Lat=ReverseArray, Lon=ForwardArray)\nplot(growthrates[Ti(5)]; clims=(0, 0.1))\nPlots.savefig(joinpath(basedir, \"build/assets/growthrates.png\"));"
      ],
      "metadata": {},
      "execution_count": null
    },
    {
      "cell_type": "markdown",
      "source": [
        "![popgrowth](assets/growthrates.png)\n\nCreate a `ExactLogisticGrowthMap` rule from the layer, here we use\nunitful units for the layers' time dimension:"
      ],
      "metadata": {}
    },
    {
      "outputs": [],
      "cell_type": "code",
      "source": [
        "carrycap = 1e9\ngrowth = LogisticGrowth(; rate=Aux(:growthrates), timestep=Day(1), carrycap=carrycap);"
      ],
      "metadata": {},
      "execution_count": null
    },
    {
      "cell_type": "markdown",
      "source": [
        "### Define initialisation data\n\nMake a zeros `GeoArray`. We need to replace the `missing`\nvalues, as init can't contain `missing` or it will spread everywhere.\nWe then initialise a population in Brisbane:"
      ],
      "metadata": {}
    },
    {
      "outputs": [],
      "cell_type": "code",
      "source": [
        "init = replace_missing(humanpop, NaN) |> zero\nlat, lon = -27.5, 153 # Brisbane\ninit[Lat(Contains(lat)), Lon(Contains(lon))] = carrycap"
      ],
      "metadata": {},
      "execution_count": null
    },
    {
      "cell_type": "markdown",
      "source": [
        "### Define a masking layer\n\nThis layer lets the simulation know which cells should be ignored."
      ],
      "metadata": {}
    },
    {
      "outputs": [],
      "cell_type": "code",
      "source": [
        "masklayer = boolmask(growthrates[Ti(1)])\nplot(masklayer)\nsavefig(joinpath(basedir, \"build/assets/mask.png\"));"
      ],
      "metadata": {},
      "execution_count": null
    },
    {
      "cell_type": "markdown",
      "source": [
        "![mask](assets/mask.png)\n\n### Define a combined ruleset"
      ],
      "metadata": {}
    },
    {
      "outputs": [],
      "cell_type": "code",
      "source": [
        "ruleset = Ruleset(humandisp, localdisp, allee, growth; timestep=timestep)"
      ],
      "metadata": {},
      "execution_count": null
    },
    {
      "cell_type": "markdown",
      "source": [
        "---\n\n## Output\n\nOutputs hold all spatial and temporal information about the simulation,\nas these match the size and length of the output, making the `Ruleset`\nindependent of location and time. `init`, `tspan`, `aux` and `mask` are common\nto all outputs, here we use the masklayer for `mask` and growthrates for `aux`.\n\nGif files are an easy way to share the visual dynamics of the simulation.\n`GifOutput` saves a gif when the simulation finishes.\n\nYou can use the built-in `Greyscale` scheme or any scheme from\n[ColorSchemes.jl](https://github.com/JuliaGraphics/ColorSchemes.jl)."
      ],
      "metadata": {}
    },
    {
      "outputs": [],
      "cell_type": "code",
      "source": [
        "using ColorSchemes\noutput = GifOutput(init;\n    # Core keywords\n    tspan=tspan,\n    mask=masklayer,\n    aux=(growthrates=growthrates,),\n    # Visualisation keywords\n    scheme=ColorSchemes.tokyo, fps=10,\n    minval=0.0, maxval=carrycap, \n    filename=joinpath(basedir, \"build/assets/sim.gif\"),\n);"
      ],
      "metadata": {},
      "execution_count": null
    },
    {
      "cell_type": "markdown",
      "source": [
        "### Run a simulation and save a gif\n\nTo run a simulation, we pass in the output and rulset."
      ],
      "metadata": {}
    },
    {
      "outputs": [],
      "cell_type": "code",
      "source": [
        "sim!(output, ruleset);"
      ],
      "metadata": {},
      "execution_count": null
    },
    {
      "cell_type": "markdown",
      "source": [
        "![Drosphila suzukii spread](assets/sim.gif)\n\n\n## Live simulation outputs\n\nThere are a number of live outputs provided in DynamicGrids.jl and\nspecific output packages DynamicGridsGtk and DynamicGridsInteract that keep\nheavy graphics and web dependencies separate form the rest of the framework.\n\n### REPL output\n\nYou can view a simulation over SSH or just in your local console using the\nincluded `REPLOutput`. It doesn't work so well in Atom/Juno, so we only recommend\nusing it in a real terminal. It also works better in a terminal where you can\neasily reduce the font size."
      ],
      "metadata": {}
    },
    {
      "outputs": [],
      "cell_type": "code",
      "source": [
        "using Crayons\noutput = REPLOutput(init; \n    mask=masklayer, \n    aux=(growthrates=growthrates,), \n    tspan=tspan, \n    style=Block(), fps=5, color=:white, store=false\n)\nsim!(output, ruleset);"
      ],
      "metadata": {},
      "execution_count": null
    },
    {
      "cell_type": "markdown",
      "source": [
        "The `Braile()` style uses half the space of the `Block()` style, but won't look as clear.\n\n### Interactive web outputs\n\n[DynamicGridsInteract.jl](http://gihub.com/rafaqz/DynamicGridsInteract.jl)\nproduces interactive web page outputs for a simulation. It uses Interact.jl for\nlive control, providing a control console and sliders for model parameters, even\nfor your own custom models.\n\nThe simple `InteractOutput()` is the core output that can run on its own inside Juno\nor a Jupyter notebook. It can also be served to a browser locally or over the\nweb using `ServerOutput()`, or run in a standalone desktop app using\n`ElectronOutput()`.\n\n### Juno or jupyter notebooks\n\nBuilding a `InteractOutput()` and running `display()` will open an output in a plot\npane in Juno. See the example above to define an image processor. Setting\n`store` to true will save the last simulation to the output array to be saved or\nconverted to a gif. Really long simulations may use your avilable ram, in which\ncase set `store` to false."
      ],
      "metadata": {}
    },
    {
      "outputs": [],
      "cell_type": "code",
      "source": [
        "using DynamicGridsInteract\noutput = InteractOutput(init;\n    ruleset=ruleset,\n    tspan=tspan, mask=masklayer, aux=(growthrates=growthrates,),\n    fps=10, store=true, scheme=ColorSchemes.tokyo, \n    minval=0.0, maxval=carrycap,\n    slider_throttle=0.5,\n)\ndisplay(output)"
      ],
      "metadata": {},
      "execution_count": null
    },
    {
      "cell_type": "markdown",
      "source": [
        "### Wrap the IneractOutput in a standalone desktop (electron) app\n\nThis will create a standalone desktop app wrapping the InteractOutput. Unfortunately\nthe compile and load time for electron can take quite a while."
      ],
      "metadata": {}
    },
    {
      "outputs": [],
      "cell_type": "code",
      "source": [
        "output = ElectronOutput(init;\n    ruleset=ruleset,\n    tspan=tspan, mask=masklayer, aux=(growthrates=growthrates,),\n    fps=10, store=true, scheme=ColorSchemes.tokyo, \n    minval=0.0, maxval=carrycap,\n    slider_throttle=1.0,\n)"
      ],
      "metadata": {},
      "execution_count": null
    },
    {
      "cell_type": "markdown",
      "source": [
        "### Serving web pages\n\nThe `InteractOutput` can be served locally or over the web. You may need to do some\nport or firewall configuration on your server, but otherwise this is all you\nneed to do to serve a simulation. Unlike other outputs, `ServerOutput` makes a\ncopy of the internal `InteractOutput` for each new connection. Changes in one\nconnection will not effect anything in the others. It tends to flash in Firefox,\nChrome may be a better option."
      ],
      "metadata": {}
    },
    {
      "outputs": [],
      "cell_type": "code",
      "source": [
        "output = ServerOutput(init;\n    ruleset=ruleset,\n    tspan=tspan, mask=masklayer, aux=(growthrates=growthrates,),\n    fps=10, store=true, scheme=ColorSchemes.tokyo, \n    minval=0.0, maxval=carrycap,\n    slider_throttle=1.0,\n    port=8080,\n)"
      ],
      "metadata": {},
      "execution_count": null
    },
    {
      "cell_type": "markdown",
      "source": [
        "### Run in a GTK window\n\nThe `GTKOutput` in\n[DynamicGridsGtk.jl](http://gihub.com/rafaqz/DynamicGridsGtk.jl) is a\nsimple desktop output that just shows the simulation without controls. It can be\nuseful for faster load-time than `ElectronOutput`, and also dedicates all\nscreenspace to viewing the simulation."
      ],
      "metadata": {}
    },
    {
      "outputs": [],
      "cell_type": "code",
      "source": [
        "using DynamicGridsGtk\noutput = GtkOutput(init;\n    mask=masklayer, aux=(growthrates=growthrates,), tspan=tspan,\n    fps=10, store=true, scheme=ColorSchemes.tokyo, \n    minval=0.0, maxval=carrycap,\n)\nsim!(output, ruleset)"
      ],
      "metadata": {},
      "execution_count": null
    }
  ],
  "nbformat_minor": 2,
  "metadata": {
    "language_info": {
      "file_extension": ".jl",
      "mimetype": "application/julia",
      "name": "julia",
      "version": "1.6.3"
    },
    "kernelspec": {
      "name": "julia-1.6",
      "display_name": "Julia 1.6.3",
      "language": "julia"
    }
  },
  "nbformat": 4
}
