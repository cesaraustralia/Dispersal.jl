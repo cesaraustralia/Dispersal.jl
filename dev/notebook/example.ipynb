{
  "cells": [
    {
      "cell_type": "markdown",
      "source": [
        "# Dispersal simulations\n\nIn this example we will run a simulation of the spread of the Spotted Winged\nDrosophila _D. suzukii_ accross the continental USA.\n\n## Setup\n\nFirst, load the required packages. Dates is a core julia package that\ngive us date/time handling, GeoData simplifies the loading of geospatial\nraster files. It requires also loading NCDatasets.jl and ArchGDAL.jl to load\nNetCDF and GeoTiff files, respectively."
      ],
      "metadata": {}
    },
    {
      "outputs": [],
      "cell_type": "code",
      "source": [
        "# using Pkg\n# Pkg.add(PackageSpec(url=\"https://github.com/rafaqz/GeoData.jl\", rev=\"master\"))\nusing GeoData, DimensionalData, Dispersal, Dates, NCDatasets, ArchGDAL, Plots\nusing DimensionalData: rebuild, Forward, Reverse\nbasedir = joinpath(dirname(Base.pathof(Dispersal)), \"../docs\")"
      ],
      "metadata": {},
      "execution_count": null
    },
    {
      "cell_type": "markdown",
      "source": [
        "### Define simulation settings\n\nWe use DateTime units of for the timestep:"
      ],
      "metadata": {}
    },
    {
      "outputs": [],
      "cell_type": "code",
      "source": [
        "timestep = Month(1);\ntspan = DateTime(2016, 1), DateTime(2018, 12)\nnframes = length(tspan[1]:timestep:tspan[2])\naust = Lon(Between(113.338953078, 153.569469029)),\n       Lat(Between(-43.6345972634, -10.6681857235));"
      ],
      "metadata": {},
      "execution_count": null
    },
    {
      "cell_type": "markdown",
      "source": [
        "---\n\n### Define a `RuleSet`: climate driven population growth\n\nThis will involve combining multiple dispersal componenents into a single\n`RuleSet` object: population growth, local dispersal, Allee effects, and human\ndispersal.\n\nFollow the [examples tutorial](https://rafaqz.github.io/GrowthRates.jl/dev/example/index.html) over\nat [GrowthRates.jl](https://github.com/rafaqz/GrowthRates.jl). To skip this step\njust download the output saved in the example:"
      ],
      "metadata": {}
    },
    {
      "outputs": [],
      "cell_type": "code",
      "source": [
        "dataurl = \"https://media.githubusercontent.com/media/cesaraustralia/Dispersal.jl/data\"\ngrowthratesfilename = \"growthrates.ncd\"\ngrowthratesfilepath = joinpath(basedir, growthratesfilename)\nisfile(growthratesfilepath) ||\n  download(joinpath(dataurl, growthratesfilename), joinpath(basedir, growthratesfilename));"
      ],
      "metadata": {},
      "execution_count": null
    },
    {
      "cell_type": "markdown",
      "source": [
        "And select just the bounding box for Australia, and set the dimension order to Lat/Lon:"
      ],
      "metadata": {}
    },
    {
      "outputs": [],
      "cell_type": "code",
      "source": [
        "growthrates = NCDarray(growthratesfilepath)[aust...] |>\n    A -> permutedims(A, (Lat, Lon, Ti)) |>\n    A -> reorderarray(A, (Lat(Reverse()), Lon(Forward())));"
      ],
      "metadata": {},
      "execution_count": null
    },
    {
      "cell_type": "markdown",
      "source": [
        "Set the length of the timestep. TODO: get this automatically from NetCDF units in GeoData.jl"
      ],
      "metadata": {}
    },
    {
      "outputs": [],
      "cell_type": "code",
      "source": [
        "ti = dims(growthrates, Ti)\nmode = Sampled(order(ti), Regular(timestep), Intervals(Start()))\ngrowthrates = setdims(growthrates, rebuild(ti; mode=mode));"
      ],
      "metadata": {},
      "execution_count": null
    },
    {
      "cell_type": "markdown",
      "source": [
        "Plot the growth layer:"
      ],
      "metadata": {}
    },
    {
      "outputs": [],
      "cell_type": "code",
      "source": [
        "growthrates[Ti(1)] |> plot\nsavefig(joinpath(basedir, \"build/assets/growthrates.png\"));"
      ],
      "metadata": {},
      "execution_count": null
    },
    {
      "cell_type": "markdown",
      "source": [
        "Create a `ExactLogisticGrowthMap` rule from the layer, here we use\nunitful units for the layers' time dimension:"
      ],
      "metadata": {}
    },
    {
      "outputs": [],
      "cell_type": "code",
      "source": [
        "carrycap = 1e9\ngrowth = ExactLogisticGrowthMap(layer=growthrates, carrycap=carrycap);"
      ],
      "metadata": {},
      "execution_count": null
    },
    {
      "cell_type": "markdown",
      "source": [
        "### Local dispersal"
      ],
      "metadata": {}
    },
    {
      "outputs": [],
      "cell_type": "code",
      "source": [
        "λ = 0.0125\nradius = 1\nsze = 2radius + 1\ndm = AreaToArea(30)\n@time hood = DispersalKernel{radius}(;kernel=zeros(Float64, radius, radius),\n                               formulation=ExponentialKernel(λ), distancemethod=dm)\nlocaldisp = InwardsPopulationDispersal(hood);"
      ],
      "metadata": {},
      "execution_count": null
    },
    {
      "cell_type": "markdown",
      "source": [
        "### Allee effects"
      ],
      "metadata": {}
    },
    {
      "outputs": [],
      "cell_type": "code",
      "source": [
        "allee = AlleeExtinction(minfounders=10.0);"
      ],
      "metadata": {},
      "execution_count": null
    },
    {
      "cell_type": "markdown",
      "source": [
        "### Human dispersal\n\nThe human dispersal component is generated from an array or population data.\nFirst we'll open an input tiff, and move it to a memory backed `GeoArray`."
      ],
      "metadata": {}
    },
    {
      "outputs": [],
      "cell_type": "code",
      "source": [
        "humanpop_filename = \"population_density.tif\"\nhumanpop_filepath = joinpath(basedir, humanpop_filename)\nisfile(humanpop_filepath) || download(joinpath(dataurl, humanpop_filename), humanpop_filepath);"
      ],
      "metadata": {},
      "execution_count": null
    },
    {
      "cell_type": "markdown",
      "source": [
        "Again select the Australian bounds. This time we also select the first Band.\nTiff data always has bands, even when there is only one:"
      ],
      "metadata": {}
    },
    {
      "outputs": [],
      "cell_type": "code",
      "source": [
        "humanpop = GDALarray(humanpop_filepath; usercrs=EPSG(4326))[Band(1), aust...] |>\n    A -> permutedims(A, (Lat, Lon)) |> reorderarray\nsavefig(joinpath(basedir, \"build/assets/humanpop.png\"));"
      ],
      "metadata": {},
      "execution_count": null
    },
    {
      "cell_type": "markdown",
      "source": [
        "![popgrowth](assets/humanpop.png)"
      ],
      "metadata": {}
    },
    {
      "outputs": [],
      "cell_type": "code",
      "source": [
        "@time humandisp = HumanDispersal(\n    human_pop=parent(humanpop),\n    human_exponent=2.0,\n    dist_exponent=2.0,\n    dispersalperpop=1e-9,\n    max_dispersers=500.0,\n    nshortlisted=50,\n    scale=8,\n);"
      ],
      "metadata": {},
      "execution_count": null
    },
    {
      "cell_type": "markdown",
      "source": [
        "### Define initialisation data\n\nMake a zeros array and populate the starting cells. We need to replace the `missing`\nvalues with something else Dispersal.jl init can't contain `missing` or it will spread everywhere:"
      ],
      "metadata": {}
    },
    {
      "outputs": [],
      "cell_type": "code",
      "source": [
        "init = replace_missing(growthrates[Ti(1)], NaN) |> zero\n\nincursion = [(36.9677,-122.0294),\n             (37.3226,-121.8921),\n             (37.6008,-120.9545),\n             (35.3453,-119.0586),\n             (38.7318,-121.9014),\n             (38.5249,-121.9708),\n             (37.2502,-119.751)]\n\n# Using `Contains` finds the interval that contains the coordinates\nfor (lat, lon) in incursion\n    init[Lat(Near(lat)), Lon(Near(lon))] = 1e7\nend;"
      ],
      "metadata": {},
      "execution_count": null
    },
    {
      "cell_type": "markdown",
      "source": [
        "### Define a masking layer\n\nThis layer lets the simulation know which cells should be ignored."
      ],
      "metadata": {}
    },
    {
      "outputs": [],
      "cell_type": "code",
      "source": [
        "masklayer = boolmask(growthrates[Ti(1)])\nplot(masklayer)\nsavefig(joinpath(basedir, \"build/assets/mask.png\"));"
      ],
      "metadata": {},
      "execution_count": null
    },
    {
      "cell_type": "markdown",
      "source": [
        "![mask](assets/mask.png)\n\n### Define a combined ruleset"
      ],
      "metadata": {}
    },
    {
      "outputs": [],
      "cell_type": "code",
      "source": [
        "ruleset = Ruleset(\n    humandisp, Chain(localdisp, allee, growth);\n    init=init,\n    mask=masklayer,\n    timestep=timestep,\n    minval=0.0,\n    maxval=carrycap,\n);"
      ],
      "metadata": {},
      "execution_count": null
    },
    {
      "cell_type": "markdown",
      "source": [
        "---\n\n## Output\n\nThe simplest and oftern the most performant output for a simulation is an\nArrayOutput, which simply writes the simulation to a preallocated array\nwithout visualising it."
      ],
      "metadata": {}
    },
    {
      "outputs": [],
      "cell_type": "code",
      "source": [
        "output = ArrayOutput(init, nframes);"
      ],
      "metadata": {},
      "execution_count": null
    },
    {
      "cell_type": "markdown",
      "source": [
        "### Run a simulation\n\nTo run a simulation, we pass in the output and rulset."
      ],
      "metadata": {}
    },
    {
      "outputs": [],
      "cell_type": "code",
      "source": [
        "sim!(output, ruleset; tspan=tspan);"
      ],
      "metadata": {},
      "execution_count": null
    },
    {
      "cell_type": "markdown",
      "source": [
        "### Save a gif of your simulation\n\nGif files are an easy way to share the visual dynamics of the simulation. First\nwe need to define a color processor to turn the simulation into images for the\nframes of the the gif. This processor can also be used later in web or gtk\noutputs.\n\nYou can use the built-in `Greyscale` scheme, or any scheme from\n[ColorSchemes.jl](https://github.com/JuliaGraphics/ColorSchemes.jl)."
      ],
      "metadata": {}
    },
    {
      "outputs": [],
      "cell_type": "code",
      "source": [
        "using ColorSchemes, Colors\nscheme = ColorSchemes.Oranges_3\n#scheme = ColorSchemes.autumn1\n\n## Frame Processing Colors\nzerocolor = RGB24(0.7)\nmaskcolor = RGB24(0.0)\ntextconfig = TextConfig(font=\"arial\")\nprocessor = ColorProcessor(scheme, zerocolor, maskcolor, textconfig);"
      ],
      "metadata": {},
      "execution_count": null
    },
    {
      "cell_type": "markdown",
      "source": [
        "With a non-image output like ArrayOuput we need to pass in the image processor\nmanually."
      ],
      "metadata": {}
    },
    {
      "outputs": [],
      "cell_type": "code",
      "source": [
        "savegif(joinpath(basedir, \"build/assets/sim.gif\"), output; minval=0.0, maxval=1e7, processor=processor, fps=10);"
      ],
      "metadata": {},
      "execution_count": null
    },
    {
      "cell_type": "markdown",
      "source": [
        "![Drosphila suzukii spread](assets/sim.gif)\n\n\n## Live simulation outputs\n\nThere are a number of live outputs provided in CelularAutomataBase.jl and\nspecific output packages DynamicGridsGtk and DynamicGridsInteract that keep\nheavy graphics and web dependencies separate form the rest of the framework.\n\n\n### REPL output\n\nYou can view a simulation over SSH or just in your local console using the\nincluded `REPLOutput`. It doesn't work so well in Atom/Juno, so we only recommend\nusing it in a real terminal. It also works better in a terminal where you can\neasily reduce the font size."
      ],
      "metadata": {}
    },
    {
      "outputs": [],
      "cell_type": "code",
      "source": [
        "using Crayons\noutput = REPLOutput(init; style=Block(), fps=5, color=:white, store=false)\nsim!(output, ruleset; tspan=tspan);"
      ],
      "metadata": {},
      "execution_count": null
    },
    {
      "cell_type": "markdown",
      "source": [
        "The `Braile()` style is half the dimensions of the `Block()` style, but doen't\nlook as clear."
      ],
      "metadata": {}
    },
    {
      "outputs": [],
      "cell_type": "code",
      "source": [
        "output = REPLOutput(init; style=Braile(), fps=5, color=:white, store=false)\nsim!(output, ruleset; tspan=tspan);"
      ],
      "metadata": {},
      "execution_count": null
    },
    {
      "cell_type": "markdown",
      "source": [
        "### Interactive web outputs\n\n[DynamicGridsInteract.jl](http://gihub.com/rafaqz/DynamicGridsInteract.jl)\nproduces interactive web page outputs for a simulation. It uses Interact.jl for\nlive control, providing a control console and sliders for model parameters, even\nfor your own custom models.\n\nThe simple `InteractOutput()` is the core output that can run on its own inside Juno\nor a Jupyter notebook. It can also be served to a browser locally or over the\nweb using `ServerOutput()`, or run in a standalone desktop app using\n`ElectronOutput()`.\n\n### Juno or jupyter notebooks\n\nBuilding a `InteractOutput()` and running `display()` will open an output in a plot\npane in Juno. See the example above to define an image processor. Setting\n`store` to true will save the last simulation to the output array to be saved or\nconverted to a gif. Really long simulations may use your avilable ram, in which\ncase set `store` to false."
      ],
      "metadata": {}
    },
    {
      "outputs": [],
      "cell_type": "code",
      "source": [
        "using DynamicGridsInteract\noutput = InteractOutput(init, ruleset;\n    tspan=tspan,\n    fps=10,\n    store=true,\n    processor=processor,\n    slider_throttle=1.0,\n)\ndisplay(output)"
      ],
      "metadata": {},
      "execution_count": null
    },
    {
      "cell_type": "markdown",
      "source": [
        "### Wrap the IneractOutput in a standalone desktop (electron) app\n\nThis will create a standalone desktop app wrapping the InteractOutput. Unfortunately\nthe compile and load time for electron can take quite a while."
      ],
      "metadata": {}
    },
    {
      "outputs": [],
      "cell_type": "code",
      "source": [
        "output = ElectronOutput(init, ruleset;\n    tspan=tspan,\n    fps=10,\n    store=true,\n    processor=processor,\n    slider_throttle=1.0,\n)"
      ],
      "metadata": {},
      "execution_count": null
    },
    {
      "cell_type": "markdown",
      "source": [
        "### Serving web pages\n\nThe `InteractOutput` can be served locally or over the web. You may need to do some\nport or firewall configuration on your server, but otherwise this is all you\nneed to do to serve a simulation. Unlike other outputs, `ServerOutput` makes a\ncopy of the internal `InteractOutput` for each new connection. Changes in one\nconnection will not effect anything in the others."
      ],
      "metadata": {}
    },
    {
      "outputs": [],
      "cell_type": "code",
      "source": [
        "output = ServerOutput(init, ruleset;\n    tspan=tspan,\n    fps=10,\n    processor=processor,\n    slider_throttle=1.0,\n    port=8080,\n)"
      ],
      "metadata": {},
      "execution_count": null
    },
    {
      "cell_type": "markdown",
      "source": [
        "If run locally, the interface should be served at the address \"localhost:8080\" in your web browser.\n\n### Run in a GTK window\n\nThe `GTKOutput` in\n[DynamicGridsGtk.jl](http://gihub.com/rafaqz/DynamicGridsGtk.jl) is a\nsimple desktop output that just shows the simulation without controls. It can be\nuseful for faster load-time than `ElectronOutput`, and also dedicates all\nscreenspace to viewing the simulation."
      ],
      "metadata": {}
    },
    {
      "outputs": [],
      "cell_type": "code",
      "source": [
        "using DynamicGridsGtk\noutput = GtkOutput(init .* 0;\n    fps=10,\n    store=true,\n    processor=processor\n)\nsim!(output, ruleset; tspan=tspan)"
      ],
      "metadata": {},
      "execution_count": null
    },
    {
      "cell_type": "markdown",
      "source": [
        "---\n\n## Adding your own rules\n\nIn Dispersal.jl and the CelularAutomataBase.jl framework it's easy to add your\nwon custom model components, or 'rules' to follow the language of cellular\nautomata. If you write them well they will perform as well as the built in\nrules, and can take advantage of a number of the same performance optimisations\nby using the type heirarchy in DynamicGrids.jl.\n\nRules may be a [number of types]."
      ],
      "metadata": {}
    }
  ],
  "nbformat_minor": 2,
  "metadata": {
    "language_info": {
      "file_extension": ".jl",
      "mimetype": "application/julia",
      "name": "julia",
      "version": "1.4.1"
    },
    "kernelspec": {
      "name": "julia-1.4",
      "display_name": "Julia 1.4.1",
      "language": "julia"
    }
  },
  "nbformat": 4
}
